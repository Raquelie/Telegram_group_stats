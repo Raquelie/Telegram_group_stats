{
 "cells": [
  {
   "cell_type": "markdown",
   "metadata": {},
   "source": [
    "## Telegram group chat data analysis\n",
    "\n",
    "For downloading chat data, go to Settings > Advanced > Export Telegram data > Machine-readable JSON\n",
    "\n",
    "For downloading for a chat individually, JSON format is not available (but there is a github issue on that, so hopefully it will be available soon)"
   ]
  },
  {
   "cell_type": "code",
   "execution_count": null,
   "metadata": {},
   "outputs": [],
   "source": [
    "import json\n",
    "import pandas as pd\n",
    "from sklearn.feature_extraction.text import CountVectorizer"
   ]
  },
  {
   "cell_type": "code",
   "execution_count": null,
   "metadata": {},
   "outputs": [],
   "source": [
    "file = 'result.json' # You may change this if you changed the name of the file\n",
    "with open(file) as file:\n",
    "    dict_data = json.load(file)\n",
    "dict_data # Data loaded to dictionary"
   ]
  },
  {
   "cell_type": "code",
   "execution_count": null,
   "metadata": {},
   "outputs": [],
   "source": [
    "# Messages are extracted for the selected group\n",
    "chat_name='test_name' # the name of the group chat\n",
    "chat_data_list=dict_data['chats']['list']\n",
    "for chat in chat_data_list:\n",
    "    if chat['name']==chat_name:\n",
    "        chat_data=chat\n",
    "        break\n",
    "chat_data_fil=[] # filter events like picture change or photos\n",
    "# chat_members=[chat_data['messages'][0]['members']] # Initial members\n",
    "# print(\"Chat members\", chat_members)\n",
    "for m in chat_data['messages']:\n",
    "    if (m['type'] == 'message' and m['text']!=''):\n",
    "        chat_data_fil.append(m)"
   ]
  },
  {
   "cell_type": "code",
   "execution_count": null,
   "metadata": {},
   "outputs": [],
   "source": [
    "# Convert to dataframe\n",
    "df_chat = pd.DataFrame.from_dict(chat_data_fil)\n",
    "# Only want user and message, although more info like date could be kept\n",
    "col_sel=['from','text']\n",
    "df_chat=df_chat[col_sel]"
   ]
  },
  {
   "cell_type": "code",
   "execution_count": null,
   "metadata": {},
   "outputs": [],
   "source": [
    "usernames=[]\n",
    "messages=[]\n",
    "for user, mes in tele.groupby(['from']):\n",
    "    usernames.append(user)\n",
    "    messages.append(mes['text'])\n",
    "print(\"Users: \", usernames)"
   ]
  },
  {
   "cell_type": "code",
   "execution_count": null,
   "metadata": {},
   "outputs": [],
   "source": [
    "# Stopwords are words commonly used in a language that do not provide much information\n",
    "# For english, sklearn has a defined list, so stopwords='english' may be used\n",
    "# For other languages or custom words, fill in the list\n",
    "# E.g for Spanish\n",
    "stopwords=['de', 'que', 'la', 'es', 'el', 'en','me', 'lo', 'un', 'los', 'una', 'han', 'las', 'al', 'se']"
   ]
  },
  {
   "cell_type": "code",
   "execution_count": null,
   "metadata": {},
   "outputs": [],
   "source": [
    "# Function\n",
    "# Get top words from user \n",
    "# Function adapted from Cristhian Boujon at Medium\n",
    "# https://medium.com/@cristhianboujon/how-to-list-the-most-common-words-from-text-corpus-using-scikit-learn-dad4d0cab41d\n",
    "def get_top_n_words(user, stopwords, n=None):\n",
    "    user_index=usernames.index(user)\n",
    "    corpus=[str (item) for item in messages[user_index]]\n",
    "    vec = CountVectorizer(stop_words=stopwords).fit(corpus)\n",
    "    bag_of_words = vec.transform(corpus)\n",
    "    sum_words = bag_of_words.sum(axis=0) \n",
    "    words_freq = [(word, sum_words[0, idx]) for word, idx in     vec.vocabulary_.items()]\n",
    "    words_freq =sorted(words_freq, key = lambda x: x[1], reverse=True)\n",
    "    return words_freq[:n]"
   ]
  },
  {
   "cell_type": "code",
   "execution_count": null,
   "metadata": {},
   "outputs": [],
   "source": [
    "# Now we can get the top words for a user\n",
    "get_top_n_words('someone', stopwords, n=100)"
   ]
  }
 ],
 "metadata": {
  "kernelspec": {
   "display_name": "Python 3",
   "language": "python",
   "name": "python3"
  },
  "language_info": {
   "codemirror_mode": {
    "name": "ipython",
    "version": 3
   },
   "file_extension": ".py",
   "mimetype": "text/x-python",
   "name": "python",
   "nbconvert_exporter": "python",
   "pygments_lexer": "ipython3",
   "version": "3.6.6"
  }
 },
 "nbformat": 4,
 "nbformat_minor": 2
}
